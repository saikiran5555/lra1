{
 "cells": [
  {
   "cell_type": "markdown",
   "id": "1612ad6c",
   "metadata": {},
   "source": [
    "Linear regression and logistic regression are both statistical methods used for predictive modeling, but they have different purposes and are used in different types of scenarios.\n",
    "\n",
    "Linear Regression\n",
    "Purpose: Used to predict a continuous outcome.\n",
    "Nature of Dependent Variable: The dependent variable is continuous (e.g., price, temperature, height).\n",
    "Model Output: Predicts a quantitative response.\n",
    "Example: Predicting the price of a house based on its size, location, and age.\n",
    "Logistic Regression\n",
    "Purpose: Used to predict a categorical outcome (usually binary).\n",
    "Nature of Dependent Variable: The dependent variable is categorical (e.g., yes/no, true/false, success/failure).\n",
    "Model Output: Predicts the probability of a categorical outcome, which is then mapped to categories (usually 0 or 1).\n",
    "Example: Predicting whether a patient has a particular disease (yes/no) based on their symptoms and medical test results.\n",
    "Example Scenario for Logistic Regression\n",
    "Imagine you are working on a medical diagnosis application. Your goal is to predict whether patients have diabetes based on various medical parameters like blood sugar levels, insulin levels, body mass index (BMI), age, and so on. In this scenario, the outcome is binary: a patient either has diabetes or does not (Yes/No). Logistic regression is more appropriate here because:\n",
    "\n",
    "The dependent variable (diabetes diagnosis) is categorical.\n",
    "You are interested in the probability of occurrence of an event (having diabetes).\n",
    "The output can be used to classify patients into two categories (diabetic and non-diabetic).\n",
    "Key Differences in Summary:\n",
    "Output: Linear regression outputs a continuous value, while logistic regression outputs probabilities that are then used for classification.\n",
    "Use Case: Linear regression is for predicting values of a continuous nature, and logistic regression is for predicting the probability of categorical outcomes.\n",
    "Function: Linear regression uses a linear function, and logistic regression uses a logistic function (sigmoid curve)."
   ]
  }
 ],
 "metadata": {
  "kernelspec": {
   "display_name": "Python 3 (ipykernel)",
   "language": "python",
   "name": "python3"
  },
  "language_info": {
   "codemirror_mode": {
    "name": "ipython",
    "version": 3
   },
   "file_extension": ".py",
   "mimetype": "text/x-python",
   "name": "python",
   "nbconvert_exporter": "python",
   "pygments_lexer": "ipython3",
   "version": "3.10.9"
  }
 },
 "nbformat": 4,
 "nbformat_minor": 5
}
